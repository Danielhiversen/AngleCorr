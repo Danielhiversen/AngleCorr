{
 "metadata": {
  "name": ""
 },
 "nbformat": 3,
 "nbformat_minor": 0,
 "worksheets": [
  {
   "cells": [
    {
     "cell_type": "markdown",
     "metadata": {},
     "source": [
      "#To Do\n",
      "* [threading](#Threading)\n",
      "* [flow visualization](#Visualize flow direction)\n",
      "* detect new center line from tsf"
     ]
    },
    {
     "cell_type": "markdown",
     "metadata": {},
     "source": [
      " #Threading\n",
      "http://doc.qt.io/qt-5/qtconcurrent-index.html\n"
     ]
    },
    {
     "cell_type": "markdown",
     "metadata": {},
     "source": [
      "#Visualize flow direction\n",
      "http://engronline.ee.memphis.edu/eece4731/djr_lec10.pdf\n",
      "\n",
      "http://www.vtk.org/Wiki/VTK/Examples/Cxx/Visualization/VectorField\n",
      "\n",
      "http://www.bu.edu/tech/support/research/training-consulting/online-tutorials/vtk/\n",
      "\n",
      "##CustusX\n",
      "CX/source/resource/view/Rep3D/cxGeometricRep.cpp\n",
      "\n",
      "##Paraview\n",
      "* Generate .vtk files\n",
      "* Run *ParaView*\n",
      "    - File >> Open >> Select File\n",
      "    - Mark file >> Apply\n",
      "    - Filters >> Glyph >> Apply\n",
      "    "
     ]
    },
    {
     "cell_type": "code",
     "collapsed": false,
     "input": [],
     "language": "python",
     "metadata": {},
     "outputs": []
    }
   ],
   "metadata": {}
  }
 ]
}